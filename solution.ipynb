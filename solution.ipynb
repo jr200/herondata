{
 "cells": [
  {
   "cell_type": "markdown",
   "id": "983860ab-5360-4368-b888-b81f7ccb9b84",
   "metadata": {},
   "source": [
    "# herondata exercise"
   ]
  },
  {
   "cell_type": "code",
   "execution_count": null,
   "id": "1c061d4a-b9ac-4743-8b64-9fcc5f23f3a9",
   "metadata": {},
   "outputs": [],
   "source": []
  }
 ],
 "metadata": {
  "kernelspec": {
   "display_name": "Python 3 (ipykernel)",
   "language": "python",
   "name": "python3"
  },
  "language_info": {
   "codemirror_mode": {
    "name": "ipython",
    "version": 3
   },
   "file_extension": ".py",
   "mimetype": "text/x-python",
   "name": "python",
   "nbconvert_exporter": "python",
   "pygments_lexer": "ipython3",
   "version": "3.9.7"
  }
 },
 "nbformat": 4,
 "nbformat_minor": 5
}
